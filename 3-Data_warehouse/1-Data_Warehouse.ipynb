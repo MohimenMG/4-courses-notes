{
 "cells": [
  {
   "cell_type": "markdown",
   "id": "7a8b2c08-67f1-47e8-a43b-b39be2a1f59e",
   "metadata": {},
   "source": [
    "# Data Warehouse"
   ]
  },
  {
   "cell_type": "markdown",
   "id": "b025347a-86dc-4770-a9fe-d6168568197d",
   "metadata": {
    "jp-MarkdownHeadingCollapsed": true,
    "tags": []
   },
   "source": [
    "## Introduction\n",
    "- Data warehousing is a technique used to consolidate data from multiple sources into a single, centralized repository for faster querying, analysis, and reporting\n",
    "- Example: In large businesses that deal with frequent transactions on different servers, data is often distributed across multiple systems and databases, making it difficult to query and analyze in real-time. By consolidating this data into a data warehouse, businesses can create a single source of truth for all their data, making it easier to access, analyze, and report on.\n",
    "- typically a data warehouse:\n",
    "    - its optmized for data querying (read operations)\n",
    "    - incrementaly loaded with new data at regular intervals (write operations)"
   ]
  },
  {
   "cell_type": "markdown",
   "id": "01f20713-faf5-4745-bf6a-fedab0d43959",
   "metadata": {},
   "source": [
    "## Data Warehouse Architectures\n",
    "\n",
    "- __centralized data warehouse:__ \n",
    "    - centralized data warehouse is a large storage that contains multiple databases, each of which corresponds to a specific subject area or a department of an organization. Each database contains strictly defined tables and columns that hold all the historical data needed for analysis.\n",
    "    - users pull data directly from the warehouse for analysis\n",
    "- __hub-and-spoke:__\n",
    "   - is a centralized data warehouse complimented by data marts\n",
    "   - users pull data from their respective data mart at much higher speed\n",
    "    - __data mart:__\n",
    "       - The process of creating a data mart involves selecting and summarizing the data from the larger data warehouse in a way that is relevant and useful to a specific business unit or department. The data is then transformed into a format that is optimized for fast querying and analysis, and loaded into a separate physical storage.\n",
    "       - provide faster query time (less computation expences) but duplicates the data so requires additional space (more storage expenses)"
   ]
  },
  {
   "cell_type": "markdown",
   "id": "a73e5a96-3ae8-45b8-bb68-e70a0461454e",
   "metadata": {},
   "source": [
    "## Components Of A Data Warehousing Solution\n",
    "- data sources > staging etl > staging database > etl > data warehouse"
   ]
  },
  {
   "cell_type": "markdown",
   "id": "ce6b4039-ec99-44e4-b7b5-63e448d5f811",
   "metadata": {},
   "source": [
    "## Normalization\n",
    "- De-normalizing data \n",
    "    - improve data read and write performance by reducing the need for complex joins across multiple tables. \n",
    "    - requires duplicating data, which can increase storage requirements and potentially lead to data consistency issues.\n",
    "    - commonly used for transactional systems, where query performance is critical and data consistency can be maintained through other means, such as transactional control mechanisms\n",
    "\n",
    "\n",
    "- Normalizing data\n",
    "    - help to minimize data redundancy and improve data consistency\n",
    "    - it may increase the complexity of queries and slow down data read and write performance, especially when dealing with complex queries across multiple tables.\n",
    "    -  preferred for data warehousing and reporting purposes, where data consistency and accuracy are critical and performance is less of a concern"
   ]
  },
  {
   "cell_type": "markdown",
   "id": "b699ba11-6f67-4684-80c6-9ecf59705bf6",
   "metadata": {
    "jp-MarkdownHeadingCollapsed": true,
    "tags": []
   },
   "source": [
    "## Fact Tables\n",
    "- A fact table is a table in a data warehouse that stores the quantitative data or measurements of a business process or event. It typically contains the foreign keys that link to related dimension tables, as well as the numeric values that are used to perform calculations, such as sums, averages, and other statistical functions.\n",
    "\n",
    "\n",
    "- For example, in the a retail store where there are an order and product tables (for simplicity each order have one product only):\n",
    "    1. the fact table can be interpreted as a join between the order and product tables\n",
    "    2. the columns selected include foreign key from the order and product table (dimension tables primary keys)\n",
    "    3. the columns selected also include key numeric metrics like quantity and price\n",
    "    4. the fact table can provide complex analysis by aggregating the numeric columns without multiple complex joins\n",
    "        - ex: calculating the total revenue for a specific product category\n",
    "\n",
    "            ```sql\n",
    "            SELECT SUM(sales) \n",
    "            FROM  fact_table\n",
    "            WHERE product_category = 'product' \n",
    "            -- a join with the product table was avoided thus a faster query\n",
    "            ----------------------------------------------------------------\n",
    "            ```\n",
    "\n",
    "    5. the fact table can be joined with a dimension table to provide additional information a\n",
    "        - ex: identifying the top-selling products for a particular customer segment\n",
    "\n",
    "            ```sql\n",
    "            SELECT f.product,c.customer_segment, count(f.sales) as cnt\n",
    "            FROM  fact_table f\n",
    "            JOIN customer c ON c.id = f.id\n",
    "            GROUP BY f.product\n",
    "            HAVING c.customer_segment = 'segment'\n",
    "            ORDER BY cnt DESC\n",
    "            -- this query would have required multiple joins but the fact table reduced the number of joins to 1\n",
    "            ------------------------------------------------------------------------\n",
    "            ```\n",
    "\n",
    "- Usually its computationally expensive to query the fact table like results through joins, so a fact table is defined in the warehouse schema taking more storage space but saving computational resources as a form of de-normalization.\n",
    "\n",
    "- a data warehouse should have one truth table for every process:\n",
    "    - if two databases are related to the same process the truth table should be a join between the dimension tables of the two databases"
   ]
  },
  {
   "cell_type": "markdown",
   "id": "606417e6-ce8f-4061-84d4-988e543ea5cd",
   "metadata": {},
   "source": [
    "## Data Warehouse Schemas\n",
    "\n",
    "### Star Schema\n",
    "\n",
    "- The star schema is designed to optimize query performance and provide simplicity.\n",
    "    - it results in larger disk space, however, quires faster and less complex.\n",
    "- the dimension tables are not normalized.\n",
    "- __ALL__ dimension tables are connected to the fact tables \n",
    "    - no-suitable only one join needed to connect to another table \n",
    "- __example:__ the fact table is \"Sales\" and contains the quantitative data related to each sale, such as the date, product ID, and sales amount. The dimension tables are \"Products\", \"Customers\", and \"Time\", and each contains descriptive information about the sale, such as the product name, customer name, and sale date.\n",
    "```sql\n",
    "SELECT p.category, SUM(s.sales_amount) as total_sales\n",
    "FROM Sales s\n",
    "JOIN Products p ON s.product_id = p.product_id\n",
    "GROUP BY p.category\n",
    "```\n",
    "- __Visual Example:__\n",
    "    - ![star](https://streamsets.b-cdn.net/wp-content/uploads/star-schema.png)\n",
    "\n",
    "### Snowflake Schema\n",
    "\n",
    "- The snowflake schema is designed to reduce data redundancy and improve data integrity\n",
    "    - it can result in slower query performance due to the increased number of joins required.\n",
    "- the dimension tables are normalized into multiple related tables.\n",
    "- the truth table is connected to __SOME__ but not all of the normalized dimension tables.\n",
    "    - sub tables are present and some tables require multiple joins to connect to a normalized table\n",
    "- __Example__: the fact table is \"Sales\" and contains the quantitative data related to each sale, such as the date, product ID, and sales amount. The \"Products\" dimension table is normalized into multiple related tables, including \"Product\", \"Product Category\", and \"Manufacturer\". The \"Customers\" and \"Time\" dimension tables are the same as in the star schema example.\n",
    "```sql\n",
    "SELECT pc.category, SUM(s.sales_amount) as total_sales\n",
    "FROM Sales s\n",
    "JOIN Product p ON s.product_id = p.product_id\n",
    "JOIN Product_Category pc ON p.category_id = pc.category_id\n",
    "GROUP BY pc.category\n",
    "```\n",
    "- __Visual Example:__\n",
    "    - ![snowflake](https://streamsets.b-cdn.net/wp-content/uploads/Snowflake-Schema.png)"
   ]
  },
  {
   "cell_type": "markdown",
   "id": "02223ab4-e4af-4051-9bb6-4d5b4923daaa",
   "metadata": {},
   "source": [
    "## Distributed Vs Non-Distributed\n",
    "\n",
    "- Non-distributed Data Warehouse Solutions:\n",
    "    - Run on a single server or small cluster\n",
    "    - Easier to manage and maintain\n",
    "    - Limited scalability, fault tolerance, and processing speed\n",
    "\n",
    "- Distributed Data Warehouse Solutions:\n",
    "    - Run on a large cluster of servers\n",
    "    - Data is distributed for better fault tolerance and redundancy\n",
    "    - Greater scalability, processing speed, and complexity\n",
    "    - Higher cost due to more hardware and infrastructure\n",
    "\n",
    "- Metrics for system cno:\n",
    "    - __Storage capacity:__ Understand the amount of storage capacity needed to store the data warehouse. This will depend on the size of the data warehouse, the amount of data to be stored, and the growth rate of the data.\n",
    "\n",
    "    - __Performance requirements:__ Understand the performance requirements of the data warehouse, including the query response time, data load time, and system availability. This will help you determine the appropriate storage solution to meet these requirements.\n",
    "\n",
    "    - __Storage options:__ Learn about the different storage options available for data warehousing, including hard disk drives (HDDs), solid-state drives (SSDs), cloud-based storage, and distributed storage solutions such as storage area networks (SANs) and network-attached storage (NAS).\n",
    "\n",
    "    - __Cost:__ Understand the cost implications of different storage solutions and how they impact the overall cost of the data warehouse.\n",
    "\n",
    "    - __Data redundancy and disaster recovery:__ Learn about the importance of data redundancy and disaster recovery for data warehousing and how different storage solutions can impact these factors."
   ]
  },
  {
   "cell_type": "code",
   "execution_count": null,
   "id": "959aae60-69b8-4ccc-9d1f-18832ce5e28d",
   "metadata": {},
   "outputs": [],
   "source": []
  }
 ],
 "metadata": {
  "kernelspec": {
   "display_name": "Python 3 (ipykernel)",
   "language": "python",
   "name": "python3"
  },
  "language_info": {
   "codemirror_mode": {
    "name": "ipython",
    "version": 3
   },
   "file_extension": ".py",
   "mimetype": "text/x-python",
   "name": "python",
   "nbconvert_exporter": "python",
   "pygments_lexer": "ipython3",
   "version": "3.9.12"
  }
 },
 "nbformat": 4,
 "nbformat_minor": 5
}
