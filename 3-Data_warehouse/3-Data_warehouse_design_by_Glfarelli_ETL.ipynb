{
 "cells": [
  {
   "cell_type": "markdown",
   "metadata": {},
   "source": [
    "# Data Warehouse design by Golfarelli (ETL)"
   ]
  },
  {
   "cell_type": "markdown",
   "metadata": {},
   "source": [
    "Extract Transform Load (ETL)\n",
    "\n",
    "Extraction:\n",
    "- extraction types:\n",
    "    - static extraction: used to populate the data warehouse for the first time\n",
    "    - incremental extraction: used to update the data warehouse \n",
    "- the data extracted is selected based on its quality(how comprehensive and accurate the data constraints are snf hoe suitable the format and clear the schema)\n",
    "\n",
    "cleaning:\n",
    "- duplicates\n",
    "- missing values \n",
    "- typos (dictionaries are used to detect these mistakes)\n",
    "- inconsistent values: different formats for country ex: I or italy \n",
    "- miss-use of field: ex: phone number in address field\n",
    "- imposable values: ex: wrong dates 45/15/2023\n",
    "\n",
    "Transformation:\n",
    "- extracting specific data from larger strings ex: company ltd, has 2 pieces of info company name and its a limited partnership company \n",
    "- standardize a format for certain felid ex: data can be saved as string or as a 3 digit integer\n",
    "- conversion: define and standardize the units data is stored in\n",
    "- normalization:  define the structure the data is stored in \n",
    "- matching: matching same data from different sources\n",
    "- filtering: selecting only the relevant fields and records\n",
    "\n",
    "Loading:\n",
    "Refresh: overwrites the data in the warehouse and usually used to populate the data warehouse for the first time\n",
    "Update: Only changes applied to the source are to the data warehouse: usually don't involve overwriting data. used with incremental extraction to update the data warehouse regularly "
   ]
  },
  {
   "cell_type": "markdown",
   "metadata": {},
   "source": []
  }
 ],
 "metadata": {
  "language_info": {
   "name": "python"
  },
  "orig_nbformat": 4
 },
 "nbformat": 4,
 "nbformat_minor": 2
}
