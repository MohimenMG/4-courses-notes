{
 "cells": [
  {
   "cell_type": "markdown",
   "metadata": {},
   "source": [
    "# Data Warehouse Intro"
   ]
  },
  {
   "cell_type": "markdown",
   "metadata": {},
   "source": [
    "### Data warehouse:\n",
    "a RDBMS designed to (extract, transform, load) and store transactional data (OLTP) in a centralized repository and allow business decision makers to query data for analysis (OLAP).\n",
    "\n",
    "#### Data warehouses are used for the following:\n",
    "- store __enterprise wide__ current and historical transactional data from one or multiple sources\n",
    "- used to query the data for the purpose of analysis and decision making (OLAP)\n",
    "- it is read intensive\n",
    "\n",
    "#### Data warehouse characteristics:\n",
    "- subject oriented: only stores relevant data\n",
    "- integrated: integrates data from different sources and formats keeping the data format uniform, ex: same naming conventions \n",
    "- time variant: has up to date and historical data unlike transactional system that only keep the most current data\n",
    "- non-volatile: is physically separated and hosts transformed data. the data once stored is not changed."
   ]
  },
  {
   "cell_type": "markdown",
   "metadata": {},
   "source": [
    "### Data warehouse building blocks and basic architecture:\n",
    "\n",
    "#### general (most common) Architecture:\n",
    "- data source(s)> staging area and ETL> data storage (raw transformed data/ meta data/ summery data)> data marts> end user tools\n",
    "- depending on the needs a data warehouse can have a staging area and data marts, staging area only, or neither staging nor data marts\n",
    "\n",
    "![image](https://static.javatpoint.com/tutorial/datawarehouse/images/data-warehouse-architecture4.png)"
   ]
  },
  {
   "cell_type": "markdown",
   "metadata": {},
   "source": [
    "#### Building blocks:\n",
    "- data sources: includes production, internal, archived, external data\n",
    "- staging area and ETL:\n",
    "    - staging area: used to store raw data before processing it and moving it to the warehouse storage component\n",
    "        - holding the data for longer periods of time in the staging area can help with recoverability, backup, and auditing\n",
    "    - extraction: copy data from different sources and loading them into tbe storage area\n",
    "    - transform: clean, format, standardize, merge and delete irrelevant data \n",
    "    - load: batch or stream load the data into the warehouse\n",
    "- data storage: data is stored in a de-normalized \n",
    "- data information delivery\n",
    "- meta data data component: keeps the data about the data structure, indexes, records, and addresses \n",
    "- data mart: a subset of the data warehouse containing a summery of a specific subject\n",
    "\n",
    "![image](https://static.javatpoint.com/tutorial/datawarehouse/images/data-warehouse-components.png)\n",
    "\n",
    "#### Properties of Data Warehouse Architectures: __too much generalization i think!__\n",
    "- separation: analytics and transactional processes should be kept separated as much as possible avoiding performance loss. \n",
    "- scalability: the system should be easy to upgrade to higher data volumes requirements \n",
    "- extensibility: the architecture should be flexible allowing new operations and technologies to be added without redesigning the whole system\n",
    "- security: the architecture should allow monitoring access to data\n",
    "- manageability: management shouldn't be complex "
   ]
  },
  {
   "cell_type": "markdown",
   "metadata": {},
   "source": [
    "#### Operational database vs data warehouse:\n",
    "\n",
    "|Database|Data warehouse|\n",
    "|--------|--------------|\n",
    "|focused on current data|focused on historical data|\n",
    "|data is updated regularly|data entered regularly however once entered rarely change|\n",
    "|optimized for simple transactions (fast insert and update for small volume of data)|optimized for large reads of complex and large queries|\n",
    "|data is normalized, to save storage space, thus joins are more complex and slower|data is partially normalized for a fast read speed|\n",
    "|uses ER data modelling and application oriented database design| uses star or snowflake model and subject oriented database design|\n",
    "|designed for OLTP|designed for OLAP|"
   ]
  },
  {
   "cell_type": "markdown",
   "metadata": {},
   "source": [
    "### Data warehouse Architectures \n",
    "\n",
    "- __1 tier architecture:__\n",
    "    - data sources __>__ middle ware __>__ end-user tools \n",
    "    - fails to separate OLAP and OLTP process (OLAP processes affect OLTP performance).\n",
    "    - ![image](https://static.javatpoint.com/tutorial/datawarehouse/images/data-warehouse-architecture7.png)\n",
    "    \n",
    "    <br/>\n",
    "- __2 tier architecture:__\n",
    "    - data sources __>__ staging area __>__ warehouse layer __>__ end-user tools\n",
    "    - separates OLAP and OLTP process \n",
    "    - ![image](https://static.javatpoint.com/tutorial/datawarehouse/images/data-warehouse-architecture8.png)\n",
    "\n",
    "    <br/>\n",
    "- __3 tier architecture:__ \n",
    "    - data sources __>__ staging area(ETL) __>__ reconciliation layer __>__ loading (ETL) __>__ data warehouse layer __>__ end user tools\n",
    "    - the data reconciliation layer* not only preform data cleaning and processing just like the staging area but also compares the same data from different sources insuring data accuracy and \n",
    "    - the reconciliation layer also merges the data from multiple sources when needed\n",
    "    - the reconciliation layer costs extra storage space due to redundancy.\n",
    "    - ![image](https://static.javatpoint.com/tutorial/datawarehouse/images/data-warehouse-architecture9.png)\n",
    "    \n",
    "    <br/>\n",
    "- __Reconciliation layer*__: the reconciliation layer is specifically designed to compare data from various source systems and identify any discrepancies or inconsistencies. Its primary goal is to ensure the accuracy and consistency of the data being loaded into the data warehouse. This layer often includes data quality checks, data matching, and data cleansing processes to resolve any discrepancies found.\n"
   ]
  },
  {
   "cell_type": "markdown",
   "metadata": {},
   "source": [
    "### Operational data Store\n",
    "\n",
    "- a subject-oriented*, integrated, volatile, current valued data store, containing only detailed corporate data. A data warehouse is a documenting database that includes associatively recent as well as historical information and may also include aggregate data.\n",
    "\n",
    "- an operational data store is used for near realtime reporting for current detailed data (no summery data is stored) for operational level data users by streaming data(or frequently updated whenever a transaction occurs) from OLTP data sources.\n",
    "\n",
    "- ODS extracts and refresh data from OLTP data sources and preforms data validation frequently.\n",
    "- An ODS is a read-only database other than regular refreshing by the OLTP systems (Customer should not be allowed to update ODS information)\n",
    "- ODS is detailed enough for operational management staff. however, not as detailed as OLTP (doesn't have to be the same granularity) \n",
    "- when building a new ODS data and performance should be validated during the ETL process  \n",
    "- ![image](https://static.javatpoint.com/tutorial/datawarehouse/images/what-is-operational-data-stores.png)\n",
    "\n",
    "subject-oriented*: It is organized around the significant information subject of an enterprise. In a university, the subjects may be students, lecturers and courses while in the company the subjects might be users, salespersons and products.\n",
    "\n"
   ]
  },
  {
   "cell_type": "markdown",
   "metadata": {},
   "source": [
    "### ETL VS ELT ???\n",
    "|ETL|ELT|\n",
    "|---|---|\n",
    "|data transfer to ETL server and back to the db (require high network bandwidth)|data remain in the database(except for cross database loads ex source object)|\n",
    "|transformation is preformed in ETL server|Transformations are performed in the source or in the target server|\n",
    "|requires high maintenance as data selection need to be preformed|low maintenance as data is always available|\n"
   ]
  },
  {
   "cell_type": "markdown",
   "metadata": {},
   "source": [
    "Reference:\n",
    "[Java point intro to data warehousing](https://www.javatpoint.com/data-warehouse)"
   ]
  },
  {
   "cell_type": "markdown",
   "metadata": {},
   "source": []
  }
 ],
 "metadata": {
  "language_info": {
   "name": "python"
  },
  "orig_nbformat": 4
 },
 "nbformat": 4,
 "nbformat_minor": 2
}
